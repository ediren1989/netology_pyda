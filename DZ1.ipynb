{
 "cells": [
  {
   "cell_type": "markdown",
   "metadata": {},
   "source": [
    "**Задание 1**. Даны 2 строки: *long_phrase* и *short_phrase*. \n",
    "Напишите код, который проверяет действительно ли длинная фраза *long_phrase* длиннее короткой *short_phrase*. И выводит *True* или *False* в зависимости от результата сравнения."
   ]
  },
  {
   "cell_type": "code",
   "execution_count": 15,
   "metadata": {},
   "outputs": [
    {
     "name": "stdout",
     "output_type": "stream",
     "text": [
      "True\n"
     ]
    }
   ],
   "source": [
    "long_phrase = 'Насколько проще было бы писать программы, если бы не заказчики'\n",
    "short_phrase = '640Кб должно хватить для любых задач. Билл Гейтс (по легенде)'"
   ]
  },
  {
   "cell_type": "code",
   "execution_count": 30,
   "metadata": {},
   "outputs": [
    {
     "data": {
      "text/plain": [
       "True"
      ]
     },
     "execution_count": 30,
     "metadata": {},
     "output_type": "execute_result"
    }
   ],
   "source": [
    "len(long_phrase) > len(short_phrase)\n",
    "\n",
    "    "
   ]
  },
  {
   "cell_type": "markdown",
   "metadata": {},
   "source": [
    "**Задание 2**. Дано значение объема файла в байтах. Напишите перевод этого значения в мегабайты в формате: \"*Объем файла равен 213.68Mb*\""
   ]
  },
  {
   "cell_type": "code",
   "execution_count": 31,
   "metadata": {},
   "outputs": [
    {
     "name": "stdout",
     "output_type": "stream",
     "text": [
      "Введите число в байтах 1500000000\n",
      "Объем файла равен 1430.511474609375 Mb\n"
     ]
    }
   ],
   "source": [
    "byte = int(input('Введите число в байтах '))\n",
    "print('Объем файла равен', (byte/1024**2),'Mb')\n",
    "\n"
   ]
  },
  {
   "cell_type": "markdown",
   "metadata": {},
   "source": [
    "**Задание 3**. Разработать приложение для определения знака зодиака по дате рождения. Пример:\n",
    "\n",
    "Введите месяц: март\n",
    "\n",
    "Введите число: 6\n",
    "\n",
    "Вывод:\n",
    "Рыбы"
   ]
  },
  {
   "cell_type": "code",
   "execution_count": null,
   "metadata": {},
   "outputs": [],
   "source": [
    "month = input('введите месяц')\n",
    "day_date = int(input('введите день месяца'))\n",
    "\n",
    "if month == \"ферваль\" and day_date > 20 or month == \"март\" and day_date < 20:\n",
    "    print('рыба')\n",
    "if month == \"январь\" and day_date > 21 or month == \"февраль\" and day_date < 19:\n",
    "    print('водолей')\n",
    "if month == \"декабрь\" and day_date > 22 or month == \"январь\" and day_date < 20:\n",
    "    print('Казерог')\n",
    "if month == \"ноябрь\" and day_date > 23 or month == \"декабрь\" and day_date < 21:\n",
    "    print('Стрелец')\n",
    "if month == \"октябрь\" and day_date > 23 or month == \"ноябрь\" and day_date < 22:\n",
    "    print('Скорпион')\n",
    "if month == \"сентябрь\" and day_date > 23 or month == \"октябрь\" and day_date < 22:\n",
    "    print('Весы')\n",
    "if month == \"август\" and day_date > 23 or month == \"сентябрь\" and day_date < 22:\n",
    "    print('Дева')\n",
    "if month == \"июль\" and day_date > 23 or month == \"август\" and day_date < 22:\n",
    "    print('Лев')\n",
    "if month == \"июнь\" and day_date > 22 or month == \"июль\" and day_date < 22:\n",
    "    print('Рак')\n",
    "if month == \"май\" and day_date > 22 or month == \"июнь\" and day_date < 21:\n",
    "    print('Близнецы')\n",
    "if month == \"апрель\" and day_date > 21 or month == \"май\" and day_date < 21:\n",
    "    print('Телец')\n",
    "if month == \"март\" and day_date > 21 or month == \"апрель\" and day_date < 20:\n",
    "    print('Овен')\n",
    "    "
   ]
  },
  {
   "cell_type": "markdown",
   "metadata": {},
   "source": [
    "**Задание 4**. Нужно разработать приложение для финансового планирования.\n",
    "Приложение учитывает сколько уходит на ипотеку, \"на жизнь\" и сколько нужно отложить на пенсию.\n",
    "Пользователь вводит:\n",
    "- заработанную плату в месяц.\n",
    "- сколько процентов от ЗП уходит на ипотеку.\n",
    "- сколько процентов от ЗП уходит \"на жизнь\".\n",
    "- сколько раз приходит премия в год.\n",
    "\n",
    "Остальная часть заработанной платы откладывается на пенсию.\n",
    "\n",
    "Также пользователю приходит премия в размере зарплаты, от которой половина уходит на отпуск, а вторая половина откладывается.\n",
    "\n",
    "Программа должна учитывать сколько премий было в год.\n",
    "\n",
    "Нужно вывести сколько денег тратит пользователь на ипотеку и сколько он накопит за год.\n",
    "\n",
    "Пример:\n",
    "\n",
    "Введите заработанную плату в месяц: 100000\n",
    "\n",
    "Введите сколько процентов уходит на ипотеку: 30\n",
    "\n",
    "Введите сколько процентов уходит на жизнь: 50\n",
    "\n",
    "Введите количество премий за год: 2\n",
    "\n",
    "Вывод:\n",
    "На ипотеку было потрачено: 360000 рублей\n",
    "Было накоплено: 340000 рублей"
   ]
  },
  {
   "cell_type": "code",
   "execution_count": 73,
   "metadata": {},
   "outputs": [
    {
     "name": "stdout",
     "output_type": "stream",
     "text": [
      "Введите заработную плату в месяц 100000\n",
      "Введите сколько процентов от ЗП уходит на ипотеку 30\n",
      "сколько процентов от ЗП уходит \"на жизнь\" 50\n",
      "сколько раз приходит премия в год 2\n",
      "На ипотеку было потрачено: 360000.0 было накоплено: 340000.0\n"
     ]
    }
   ],
   "source": [
    "salary = int(input('Введите заработную плату в месяц '))\n",
    "percent_mortgage = float(input('Введите сколько процентов от ЗП уходит на ипотеку '))\n",
    "percent_life = float(input('сколько процентов от ЗП уходит \"на жизнь\" '))\n",
    "quility_bonus_year = int(input('сколько раз приходит премия в год '))\n",
    "print('На ипотеку было потрачено:', salary*12*percent_mortgage/100,\\\n",
    "      'было накоплено:',salary*quility_bonus_year/2+salary*12*(100-percent_mortgage-percent_life)/100)\n"
   ]
  }
 ],
 "metadata": {
  "kernelspec": {
   "display_name": "Python 3",
   "language": "python",
   "name": "python3"
  },
  "language_info": {
   "codemirror_mode": {
    "name": "ipython",
    "version": 3
   },
   "file_extension": ".py",
   "mimetype": "text/x-python",
   "name": "python",
   "nbconvert_exporter": "python",
   "pygments_lexer": "ipython3",
   "version": "3.7.4"
  }
 },
 "nbformat": 4,
 "nbformat_minor": 4
}
