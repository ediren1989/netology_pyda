{
 "cells": [
  {
   "cell_type": "code",
   "execution_count": 1,
   "metadata": {},
   "outputs": [],
   "source": [
    "from datetime import datetime\n",
    "from datetime import timedelta\n"
   ]
  },
  {
   "cell_type": "markdown",
   "metadata": {},
   "source": [
    "Задание 1 Напишите функцию date_range, которая возвращает список дней между датами start_date и end_date. Даты должны вводиться в формате YYYY-MM-DD.\n",
    "\n",
    "Задание 2 Дополните функцию из первого задания проверкой на корректность дат. В случае неверного формата или если start_date > end_date должен возвращаться пустой список.\n"
   ]
  },
  {
   "cell_type": "code",
   "execution_count": 12,
   "metadata": {},
   "outputs": [
    {
     "name": "stdout",
     "output_type": "stream",
     "text": [
      "2018-02-01\n",
      "2018-02-02\n",
      "2018-02-03\n",
      "2018-02-04\n",
      "['2018-02-01', '2018-02-02', '2018-02-03', '2018-02-04']\n"
     ]
    }
   ],
   "source": [
    "\n",
    "start_date = '2018-01-31'\n",
    "end_date = '2018-02-05'\n",
    "\n",
    "def date_range(start_date,end_date):\n",
    "    days = []\n",
    "    try:\n",
    "        date_run =  datetime.strptime(start_date,'%Y-%m-%d')\n",
    "        date_end =  datetime.strptime(end_date,'%Y-%m-%d')\n",
    "        if date_end + timedelta(days=1) > date_run:\n",
    "            while date_end - timedelta(days=1) != date_run:\n",
    "                date_run += timedelta(days=1)\n",
    "                new_day = date_run.strftime('%Y-%m-%d')\n",
    "                print(new_day)\n",
    "                days.append(new_day)\n",
    "            return(days)\n",
    "        else:\n",
    "            return(days)\n",
    "    except:\n",
    "        return(days)\n",
    "\n",
    "print(date_range(start_date,end_date))\n",
    "\n"
   ]
  },
  {
   "cell_type": "markdown",
   "metadata": {},
   "source": [
    "Задание 3 Дан поток дат в формате YYYY-MM-DD, в которых встречаются некорректные значения: stream = ['2018-04-02', '2018-02-29', '2018-19-02']\n",
    "\n",
    "Напишите функцию, которая проверяет эти даты на корректность. Т. е. для каждой даты возвращает True (дата корректна) или False (некорректная дата)."
   ]
  },
  {
   "cell_type": "code",
   "execution_count": 90,
   "metadata": {},
   "outputs": [
    {
     "name": "stdout",
     "output_type": "stream",
     "text": [
      "{'2018-04-02': 'true', '2018-02-29': 'false', '2018-19-02': 'false'}\n"
     ]
    }
   ],
   "source": [
    "stream = ['2018-04-02', '2018-02-29', '2018-19-02']\n",
    "def correct_day(date):\n",
    "    result = {}\n",
    "    for date in date:\n",
    "        try:    \n",
    "            datetime.strptime(date,'%Y-%m-%d')\n",
    "            result[date] = 'true'\n",
    "        except:\n",
    "            result[date] = 'false'\n",
    "    return(result)\n",
    "\n",
    "print(correct_day(stream))\n",
    "\n"
   ]
  },
  {
   "cell_type": "code",
   "execution_count": null,
   "metadata": {},
   "outputs": [],
   "source": []
  }
 ],
 "metadata": {
  "kernelspec": {
   "display_name": "Python 3",
   "language": "python",
   "name": "python3"
  },
  "language_info": {
   "codemirror_mode": {
    "name": "ipython",
    "version": 3
   },
   "file_extension": ".py",
   "mimetype": "text/x-python",
   "name": "python",
   "nbconvert_exporter": "python",
   "pygments_lexer": "ipython3",
   "version": "3.7.4"
  }
 },
 "nbformat": 4,
 "nbformat_minor": 2
}
