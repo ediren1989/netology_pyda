{
 "cells": [
  {
   "cell_type": "markdown",
   "metadata": {},
   "source": [
    "Переведите содержимое файла purchase_log.txt в словарь purchases вида:\n",
    "\n",
    "{'1840e0b9d4': 'Продукты', ...}\n"
   ]
  },
  {
   "cell_type": "code",
   "execution_count": null,
   "metadata": {},
   "outputs": [],
   "source": [
    "with open('purchase_log.txt', encoding='utf-8') as a:\n",
    "    purchases = {}\n",
    "    purchase2 = a.readlines()\n",
    "    for line in purchase2:\n",
    "        line = line.strip()\n",
    "        p_line = json.loads(line)\n",
    "        if p_line['user_id'] != 'user_id':\n",
    "            if (p_line['user_id'] not in purchases.keys()):\n",
    "                purchases[p_line['user_id']] = p_line['category']\n",
    "             \n",
    "            else:\n",
    "                purchases[p_line['user_id']] += ',' + p_line['category']"
   ]
  },
  {
   "cell_type": "markdown",
   "metadata": {},
   "source": [
    "Для каждого user_id в файле visit_log.csv добавьте третий столбец с категорией покупки (если покупка была).\n",
    "\n",
    "Запишите в файл funnel.csv визиты из файла visit_log.csv, в которых были покупки с указанием категории."
   ]
  },
  {
   "cell_type": "code",
   "execution_count": null,
   "metadata": {},
   "outputs": [],
   "source": [
    "visit_log1 = open('visit_log.csv','r', encoding='utf-8')\n",
    "visit_log2 = open('visit_log2', 'w')\n",
    "funnel = open('funnel.csv', 'w')\n",
    "i = 0\n",
    "for line in visit_log1:\n",
    "    line = line.strip('\\n')\n",
    "    user_id = line.split(',')[0]\n",
    "    category = purchases.get(user_id)\n",
    "    if i == 0:\n",
    "        line += ',category\\n'\n",
    "        visit_log2.write(line)\n",
    "        funnel.write(line)\n",
    "        i += 1\n",
    "    else:\n",
    "        line += ',' + str(category) + '\\n'\n",
    "        visit_log2.write(line)\n",
    "        if category != None:\n",
    "            funnel.write(line)\n",
    "visit_log1.close()\n",
    "visit_log2.close()\n",
    "funnel.close()"
   ]
  }
 ],
 "metadata": {
  "kernelspec": {
   "display_name": "Python 3",
   "language": "python",
   "name": "python3"
  },
  "language_info": {
   "codemirror_mode": {
    "name": "ipython",
    "version": 3
   },
   "file_extension": ".py",
   "mimetype": "text/x-python",
   "name": "python",
   "nbconvert_exporter": "python",
   "pygments_lexer": "ipython3",
   "version": "3.7.4"
  }
 },
 "nbformat": 4,
 "nbformat_minor": 2
}
