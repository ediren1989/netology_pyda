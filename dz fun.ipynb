{
 "cells": [
  {
   "cell_type": "markdown",
   "metadata": {},
   "source": [
    "## Задание 1"
   ]
  },
  {
   "cell_type": "markdown",
   "metadata": {},
   "source": [
    "Дан список вида:"
   ]
  },
  {
   "cell_type": "code",
   "execution_count": 1,
   "metadata": {},
   "outputs": [],
   "source": [
    "data_= [\n",
    "    [13, 25, 23, 34],\n",
    "    [45, 32, 44, 47],\n",
    "    [12, 33, 23, 95],\n",
    "    [13, 53, 34, 35]\n",
    "]"
   ]
  },
  {
   "cell_type": "code",
   "execution_count": 2,
   "metadata": {},
   "outputs": [
    {
     "name": "stdout",
     "output_type": "stream",
     "text": [
      "103\n"
     ]
    }
   ],
   "source": [
    "def sum_(data):\n",
    "    sumMain = 0\n",
    "    i = -1\n",
    "    for num in data:\n",
    "        i += 1\n",
    "        sumMain += data[i][i]\n",
    "    return(sumMain)\n",
    "print(sum_(data_))"
   ]
  },
  {
   "cell_type": "markdown",
   "metadata": {},
   "source": [
    "Напишите функцию, которая возвращает сумму элементов на диагонали. Т. е. 13+32+23+35.  \n",
    "Список может быть любой длины, но всегда является \"квадратным\" (количество элементов во вложенных списках равно их количеству)."
   ]
  },
  {
   "cell_type": "markdown",
   "metadata": {},
   "source": [
    "## Задание 2"
   ]
  },
  {
   "cell_type": "code",
   "execution_count": 7,
   "metadata": {
    "cocalc": {
     "outputs": {
      "0": {
       "name": "input",
       "opts": {
        "password": false,
        "prompt": ""
       },
       "output_type": "stream",
       "value": "3"
      }
     }
    }
   },
   "outputs": [
    {
     "name": "stdout",
     "output_type": "stream",
     "text": [
      "5\n",
      "12\n"
     ]
    }
   ],
   "source": [
    "n=int(input())\n",
    "def sum_fibonacci(n):\n",
    "    fib1 = fib2 = 1\n",
    "    sum_ = 2\n",
    "    for i in range(2, n):\n",
    "        sum_ += fib1 + fib2\n",
    "        fib3 = fib1\n",
    "        fib1 = fib2\n",
    "        fib2 = fib2 + fib3\n",
    "    return(sum_)\n",
    "print(sum_fibonacci(n))\n",
    "        "
   ]
  },
  {
   "cell_type": "markdown",
   "metadata": {},
   "source": [
    "Напишите функцию, возвращающую сумму первых n чисел Фибоначчи (для этого вам может понадобится ознакомиться с рекурсией)."
   ]
  },
  {
   "cell_type": "markdown",
   "metadata": {},
   "source": [
    "## Задание 3\n"
   ]
  },
  {
   "cell_type": "code",
   "execution_count": 57,
   "metadata": {},
   "outputs": [
    {
     "name": "stdout",
     "output_type": "stream",
     "text": [
      "{'2018-01-01': {'yandex': {'cpc': 100}}}\n"
     ]
    }
   ],
   "source": [
    "lst = ['2018-01-01', 'yandex', 'cpc', 100]\n",
    "\n",
    "def list_to_dict(list):\n",
    "    i = len(list) - 1\n",
    "    d = {}\n",
    "    while i > 0:\n",
    "        if i == len(list) - 1:\n",
    "            c = list[i]\n",
    "        else:\n",
    "            c = {list[i] : c}\n",
    "        i = i - 1\n",
    "    d[list[0]] = c\n",
    "    return(d)\n",
    "print(list_to_dict(lst))"
   ]
  },
  {
   "cell_type": "markdown",
   "metadata": {},
   "source": [
    "Напишите функцию, преобразующую произвольный список вида ['2018-01-01', 'yandex', 'cpc', 100] (он может быть любой длины) в словарь {'2018-01-01': {'yandex': {'cpc': 100}}}"
   ]
  },
  {
   "cell_type": "markdown",
   "metadata": {},
   "source": [
    "## Задание 4"
   ]
  },
  {
   "cell_type": "markdown",
   "metadata": {},
   "source": [
    "Вы работаете секретарем и вам постоянно приходят различные документы. Вы должны быть очень внимательны, чтобы не потерять ни один документ. Каталог документов хранится в следующем виде:"
   ]
  },
  {
   "cell_type": "code",
   "execution_count": 13,
   "metadata": {
    "cocalc": {
     "outputs": {
      "0": {
       "name": "input",
       "opts": {
        "password": false,
        "prompt": "Введите команду"
       },
       "output_type": "stream",
       "value": "m"
      },
      "1": {
       "name": "input",
       "opts": {
        "password": false,
        "prompt": "Введите номер документа"
       },
       "output_type": "stream",
       "value": "11-2"
      },
      "2": {
       "name": "input",
       "opts": {
        "password": false,
        "prompt": "Введите номер полки"
       },
       "output_type": "stream",
       "value": "4"
      }
     }
    }
   },
   "outputs": [],
   "source": [
    "documents = [\n",
    "    {'type': 'passport', 'number': '2207 876234', 'name': 'Василий Гупкин'},\n",
    "    {'type': 'invoice', 'number': '11-2', 'name': 'Геннадий Покемонов'},\n",
    "    {'type': 'insurance', 'number': '10006', 'name': 'Аристарх Павлов'}\n",
    "]\n"
   ]
  },
  {
   "cell_type": "markdown",
   "metadata": {},
   "source": [
    "Перечень полок, на которых находятся документы хранится в следующем виде:"
   ]
  },
  {
   "cell_type": "code",
   "execution_count": 14,
   "metadata": {
    "cocalc": {
     "outputs": {
      "0": {
       "name": "input",
       "opts": {
        "password": false,
        "prompt": "Введите номер документа"
       },
       "output_type": "stream",
       "value": "555"
      },
      "1": {
       "name": "input",
       "opts": {
        "password": false,
        "prompt": "Введите тип документа"
       },
       "output_type": "stream",
       "value": "паспорт"
      },
      "2": {
       "name": "input",
       "opts": {
        "password": false,
        "prompt": "Введите Имя и Фамилию владельца"
       },
       "output_type": "stream",
       "value": "Дмитрий"
      },
      "3": {
       "name": "input",
       "opts": {
        "password": false,
        "prompt": "Введите номер полки"
       },
       "output_type": "stream",
       "value": "3"
      }
     }
    }
   },
   "outputs": [],
   "source": [
    "directories = {\n",
    "    '1': ['2207 876234', '11-2', '5455 028765'],\n",
    "    '2': ['10006', '5400 028765', '5455 002299'],\n",
    "    '3': []\n",
    "}"
   ]
  },
  {
   "cell_type": "code",
   "execution_count": 15,
   "metadata": {},
   "outputs": [
    {
     "name": "stdout",
     "output_type": "stream",
     "text": [
      "Введите командуshelf\n",
      "Введите номер документа11-2\n",
      "Документ хранится на полке № 1\n"
     ]
    }
   ],
   "source": [
    "def name_people_for_document(n):\n",
    "    for doc in documents:\n",
    "        if doc['number'] == n:   \n",
    "            return(doc['name'])\n",
    "    return('Документ не найден')\n",
    "\n",
    "def number_directories_for_document(n):\n",
    "    for key, value in directories.items():\n",
    "        i = 0\n",
    "        while i < len(value):\n",
    "            if value[i] == n:\n",
    "                return('Документ хранится на полке № '+ key)\n",
    "            i += 1\n",
    "    return('Документ не найден')\n",
    "\n",
    "\n",
    "def delete_document(n):\n",
    "    i = 0\n",
    "    a = ''\n",
    "    for doc in documents:\n",
    "        if doc['number'] == n:\n",
    "            del(documents[i])\n",
    "            a = 'документ удален из списка документов.'\n",
    "        i += 1\n",
    "    for key, value in directories.items():\n",
    "            i = 0\n",
    "            while i < len(value):\n",
    "                if value[i] == n:\n",
    "                    value.remove(value[i])\n",
    "                    a = a + 'документ удален с полок.'\n",
    "                i += 1\n",
    "    if a != '':\n",
    "        return(a)\n",
    "    else:\n",
    "        return('Документ не найден')\n",
    "\n",
    "def move_documents(n,a):\n",
    "    if a not in directories:\n",
    "        rt = 'Указанной полки не существует'\n",
    "    else:\n",
    "        l = 0\n",
    "        for key, value in directories.items():\n",
    "                i = 0\n",
    "                while i < len(value):\n",
    "                    if value[i] == n:\n",
    "                        value.remove(value[i])\n",
    "                        l += 1\n",
    "                    i += 1\n",
    "        if l != 0:\n",
    "            directories[a] = {n}\n",
    "            rt = 'Документ перемещен на полку ' + a\n",
    "        else:\n",
    "            rt = 'Документ не найден'\n",
    "    return(rt)\n",
    "\n",
    "    \n",
    "\n",
    "\n",
    "z = input('Введите команду')\n",
    "if z == 'p' or z == 'people': \n",
    "        n = input('Введите номер документа')\n",
    "        print(name_people_for_document(n))\n",
    "elif z == 's' or z == 'shelf': \n",
    "        n = input('Введите номер документа')\n",
    "        print(number_directories_for_document(n))\n",
    "elif z == 'l' or z == 'list': \n",
    "        for doc in documents:\n",
    "            print(doc['type'] + ' \"' + doc['number'] + '\" \"' + doc['name'] + '\"')\n",
    "elif z == 'as' or z == 'add shelf': \n",
    "        n = input('Введите номер новой полки')\n",
    "        if n in directories:\n",
    "            print('Указанная полка уже существует')\n",
    "        else:\n",
    "            directories[n] = []\n",
    "            print(directories)\n",
    "elif z == 'd' or z == 'delete': \n",
    "        n = input('Введите номер документа для удаления')\n",
    "        print(delete_document(n))\n",
    "elif z == 'm' or z == 'move': \n",
    "        n = input('Введите номер документа')\n",
    "        a = input('Введите номер полки')\n",
    "        print(move_documents(n,a))\n",
    "elif z == 'a' or z == 'add': \n",
    "        n = input('Введите номер документа')\n",
    "        d_t = input('Введите тип документа')\n",
    "        d_nm = input('Введите Имя и Фамилию владельца')\n",
    "        a = input('Введите номер полки')\n",
    "        l = 0\n",
    "        for key, value in directories.items():\n",
    "            if key == a:\n",
    "                documents.append({'type': d_t, 'number': n, 'name': d_nm})\n",
    "                value.append(n)\n",
    "                l += 1\n",
    "        if l == 0:\n",
    "            print('Полка не найдена, добавьте сначала полку')\n",
    "else:\n",
    "    print('Введите правильную команду')\n"
   ]
  },
  {
   "cell_type": "markdown",
   "metadata": {},
   "source": [
    "Необходимо реализовать пользовательские команды (внимание! это не название функций, которые должны быть выразительными, а команды, которые вводит пользователь, чтобы получить необходимый результат):\n",
    "  \n",
    "- p – people – команда, которая спросит номер документа и выведет имя человека, которому он принадлежит;  \n",
    "- s – shelf – команда, которая спросит номер документа и выведет номер полки, на которой он находится  \n",
    "Правильно обработайте ситуацию, когда пользователь будет вводить несуществующий документ.\n",
    "- l – list – команда, которая выведет список всех документов в формате   \n",
    "**passport \"2207 876234\" \"Василий Гупкин\"**  \n",
    "- as – add shelf – команда, которая спросит номер новой полки и добавит ее в перечень\n",
    "- d – delete – команда, которая спросит номер документа и удалит его из каталога и из перечня полок. Предусмотрите сценарий, когда пользователь вводит несуществующий документ;  \n",
    "- m – move – команда, которая спросит номер документа и целевую полку и переместит его с текущей полки на целевую. Корректно обработайте кейсы, когда пользователь пытается переместить несуществующий документ или переместить документ на несуществующую полку;  \n",
    "- a – add – команда, которая добавит новый документ в каталог и в перечень полок, спросив его номер, тип, имя владельца и номер полки, на котором он будет храниться."
   ]
  }
 ],
 "metadata": {
  "kernelspec": {
   "display_name": "Python 3",
   "language": "python",
   "name": "python3"
  },
  "language_info": {
   "codemirror_mode": {
    "name": "ipython",
    "version": 3
   },
   "file_extension": ".py",
   "mimetype": "text/x-python",
   "name": "python",
   "nbconvert_exporter": "python",
   "pygments_lexer": "ipython3",
   "version": "3.7.4"
  }
 },
 "nbformat": 4,
 "nbformat_minor": 1
}
