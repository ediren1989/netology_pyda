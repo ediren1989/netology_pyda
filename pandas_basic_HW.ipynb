{
 "cells": [
  {
   "cell_type": "markdown",
   "metadata": {},
   "source": [
    "**Задание 1**Скачайте с сайта https://grouplens.org/datasets/movielens/ датасет любого размера. Определите какому фильму было выставлено больше всего оценок 5.0."
   ]
  },
  {
   "cell_type": "code",
   "execution_count": 1,
   "metadata": {},
   "outputs": [],
   "source": [
    "import pandas as pd"
   ]
  },
  {
   "cell_type": "code",
   "execution_count": 27,
   "metadata": {},
   "outputs": [
    {
     "data": {
      "text/plain": [
       "318     202\n",
       "296     167\n",
       "356     155\n",
       "2571    150\n",
       "2959    130\n",
       "Name: movieId, dtype: int64"
      ]
     },
     "execution_count": 27,
     "metadata": {},
     "output_type": "execute_result"
    }
   ],
   "source": [
    "films = pd.read_csv('ratings.csv')\n",
    "rating_films = films[films.rating > 4 ]\n",
    "rating_films['movieId'].value_counts().head()\n"
   ]
  },
  {
   "cell_type": "markdown",
   "metadata": {},
   "source": [
    "**Задание 2**По данным файла power.csv посчитайте суммарное потребление стран Прибалтики (Латвия, Литва и Эстония) категорий 4, 12 и 21 за период с 2005 по 2010 года. Не учитывайте в расчетах отрицательные значения quantity."
   ]
  },
  {
   "cell_type": "code",
   "execution_count": 86,
   "metadata": {},
   "outputs": [
    {
     "data": {
      "text/plain": [
       "240580.0"
      ]
     },
     "execution_count": 86,
     "metadata": {},
     "output_type": "execute_result"
    }
   ],
   "source": [
    "data = pd.read_csv('power.csv')\n",
    "filtered_countries = (data[ ((data['country']=='Latvia') | (data['country']=='Lithuania') | (data['country']=='Estonia'))\n",
    "                           & ((data['category']==4) | (data['category']==12) | (data['category']==21))\n",
    "                           & ((data['year']==2005) | (data['year']==2006) | (data['year']==2007)\n",
    "                            | (data['year']==2008) | (data['year']==2009) | (data['year']==2010))\n",
    "                          & (data['quantity'] > 0)]\n",
    "                     )\n",
    "filtered_countries.quantity.sum()\n",
    "                     "
   ]
  },
  {
   "cell_type": "markdown",
   "metadata": {},
   "source": [
    "**Задание 3**\n",
    "Выберите страницу любого сайта с табличными данными. Импортируйте таблицы в pandas dataframe.\n",
    "Примеры страниц (необязательно брать именно эти): \n",
    "https://fortrader.org/quotes\n",
    "https://www.finanz.ru/valyuty/v-realnom-vremeni\n"
   ]
  },
  {
   "cell_type": "code",
   "execution_count": 99,
   "metadata": {},
   "outputs": [],
   "source": [
    "pg1 = pd.read_html('https://fortrader.org/quotes')[0]\n",
    "pg2 = pd.read_html('https://fortrader.org/quotes')[1]\n",
    "pg3 = pd.read_html('https://fortrader.org/quotes')[2]\n",
    "pg4 = pd.read_html('https://fortrader.org/quotes')[3]\n",
    "pg5 = pd.read_html('https://fortrader.org/quotes')[4]\n",
    "\n"
   ]
  },
  {
   "cell_type": "code",
   "execution_count": 100,
   "metadata": {},
   "outputs": [
    {
     "data": {
      "text/html": [
       "<div>\n",
       "<style scoped>\n",
       "    .dataframe tbody tr th:only-of-type {\n",
       "        vertical-align: middle;\n",
       "    }\n",
       "\n",
       "    .dataframe tbody tr th {\n",
       "        vertical-align: top;\n",
       "    }\n",
       "\n",
       "    .dataframe thead th {\n",
       "        text-align: right;\n",
       "    }\n",
       "</style>\n",
       "<table border=\"1\" class=\"dataframe\">\n",
       "  <thead>\n",
       "    <tr style=\"text-align: right;\">\n",
       "      <th></th>\n",
       "      <th>Type</th>\n",
       "      <th>Last</th>\n",
       "      <th>Chg.</th>\n",
       "      <th>Chg.%</th>\n",
       "      <th>Time</th>\n",
       "    </tr>\n",
       "  </thead>\n",
       "  <tbody>\n",
       "    <tr>\n",
       "      <td>0</td>\n",
       "      <td>EURUSD Курс евро к доллару</td>\n",
       "      <td>1.10155</td>\n",
       "      <td>-0.00022</td>\n",
       "      <td>-0.01997</td>\n",
       "      <td>NaN</td>\n",
       "    </tr>\n",
       "    <tr>\n",
       "      <td>1</td>\n",
       "      <td>AUDUSD Курс австралийского доллара к доллару сша</td>\n",
       "      <td>0.67527</td>\n",
       "      <td>-0.00067</td>\n",
       "      <td>-0.09912</td>\n",
       "      <td>NaN</td>\n",
       "    </tr>\n",
       "    <tr>\n",
       "      <td>2</td>\n",
       "      <td>AUDCAD Australian Dollar / Canadian Dollar</td>\n",
       "      <td>0.88901</td>\n",
       "      <td>-0.00284</td>\n",
       "      <td>-0.31844</td>\n",
       "      <td>NaN</td>\n",
       "    </tr>\n",
       "    <tr>\n",
       "      <td>3</td>\n",
       "      <td>EURCHF Euro / Swiss Franc</td>\n",
       "      <td>1.07201</td>\n",
       "      <td>0.00421</td>\n",
       "      <td>0.39427</td>\n",
       "      <td>NaN</td>\n",
       "    </tr>\n",
       "    <tr>\n",
       "      <td>4</td>\n",
       "      <td>EURGBP Euro / Great Britain Pound</td>\n",
       "      <td>0.84683</td>\n",
       "      <td>0.00313</td>\n",
       "      <td>0.37098</td>\n",
       "      <td>NaN</td>\n",
       "    </tr>\n",
       "  </tbody>\n",
       "</table>\n",
       "</div>"
      ],
      "text/plain": [
       "                                               Type     Last     Chg.  \\\n",
       "0                        EURUSD Курс евро к доллару  1.10155 -0.00022   \n",
       "1  AUDUSD Курс австралийского доллара к доллару сша  0.67527 -0.00067   \n",
       "2        AUDCAD Australian Dollar / Canadian Dollar  0.88901 -0.00284   \n",
       "3                         EURCHF Euro / Swiss Franc  1.07201  0.00421   \n",
       "4                 EURGBP Euro / Great Britain Pound  0.84683  0.00313   \n",
       "\n",
       "     Chg.%  Time  \n",
       "0 -0.01997   NaN  \n",
       "1 -0.09912   NaN  \n",
       "2 -0.31844   NaN  \n",
       "3  0.39427   NaN  \n",
       "4  0.37098   NaN  "
      ]
     },
     "execution_count": 100,
     "metadata": {},
     "output_type": "execute_result"
    }
   ],
   "source": [
    "pg5.head()"
   ]
  }
 ],
 "metadata": {
  "kernelspec": {
   "display_name": "Python 3",
   "language": "python",
   "name": "python3"
  },
  "language_info": {
   "codemirror_mode": {
    "name": "ipython",
    "version": 3
   },
   "file_extension": ".py",
   "mimetype": "text/x-python",
   "name": "python",
   "nbconvert_exporter": "python",
   "pygments_lexer": "ipython3",
   "version": "3.7.4"
  }
 },
 "nbformat": 4,
 "nbformat_minor": 2
}
